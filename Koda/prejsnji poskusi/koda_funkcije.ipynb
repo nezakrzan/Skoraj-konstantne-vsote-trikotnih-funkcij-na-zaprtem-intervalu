{
 "cells": [
  {
   "cell_type": "code",
   "execution_count": 5,
   "metadata": {
    "collapsed": false,
    "deletable": true,
    "editable": true
   },
   "outputs": [
    {
     "name": "stdout",
     "output_type": "stream",
     "text": [
      "Uspešno nastavljene nastavitve\n"
     ]
    },
    {
     "ename": "TypeError",
     "evalue": "list indices must be integers or slices, not float",
     "output_type": "error",
     "traceback": [
      "\u001b[0;31m---------------------------------------------------------------------------\u001b[0m",
      "\u001b[0;31mTypeError\u001b[0m                                 Traceback (most recent call last)",
      "\u001b[0;32m<ipython-input-5-8ecfedffaf26>\u001b[0m in \u001b[0;36m<module>\u001b[0;34m\u001b[0m\n\u001b[1;32m     86\u001b[0m     \u001b[0mvrednosti\u001b[0m \u001b[0;34m=\u001b[0m \u001b[0;34m[\u001b[0m\u001b[0;34m]\u001b[0m\u001b[0;34m\u001b[0m\u001b[0;34m\u001b[0m\u001b[0m\n\u001b[1;32m     87\u001b[0m     \u001b[0;32mfor\u001b[0m \u001b[0mx\u001b[0m \u001b[0;32min\u001b[0m \u001b[0minterval\u001b[0m\u001b[0;34m:\u001b[0m\u001b[0;34m\u001b[0m\u001b[0;34m\u001b[0m\u001b[0m\n\u001b[0;32m---> 88\u001b[0;31m         \u001b[0;32mif\u001b[0m \u001b[0mseznam_funkcij\u001b[0m\u001b[0;34m[\u001b[0m\u001b[0mi\u001b[0m\u001b[0;34m]\u001b[0m \u001b[0;34m<\u001b[0m \u001b[0mInteger\u001b[0m\u001b[0;34m(\u001b[0m\u001b[0;36m0\u001b[0m\u001b[0;34m)\u001b[0m\u001b[0;34m:\u001b[0m\u001b[0;34m\u001b[0m\u001b[0;34m\u001b[0m\u001b[0m\n\u001b[0m\u001b[1;32m     89\u001b[0m             \u001b[0mseznam_funkcij\u001b[0m\u001b[0;34m[\u001b[0m\u001b[0mi\u001b[0m\u001b[0;34m]\u001b[0m \u001b[0;34m=\u001b[0m \u001b[0mInteger\u001b[0m\u001b[0;34m(\u001b[0m\u001b[0;36m0\u001b[0m\u001b[0;34m)\u001b[0m\u001b[0;34m\u001b[0m\u001b[0;34m\u001b[0m\u001b[0m\n\u001b[1;32m     90\u001b[0m         \u001b[0;32melse\u001b[0m\u001b[0;34m:\u001b[0m\u001b[0;34m\u001b[0m\u001b[0;34m\u001b[0m\u001b[0m\n",
      "\u001b[0;31mTypeError\u001b[0m: list indices must be integers or slices, not float"
     ]
    }
   ],
   "source": [
    "# Nastavitve programa \n",
    "# Tukaj nastavimo število trikotnih funkcij(n) in število trikotnih funkcij v podmnožici(m), m < n\n",
    "# Nastavimo zaprt interval [a,b], a < b\n",
    "#\n",
    "\n",
    "n = 10\n",
    "m = 7\n",
    "a = 0\n",
    "b = 1\n",
    "\n",
    "if n <= 0:\n",
    "    print(\"Napaka: število trikotnih funkcij mora biti pozitivno\")\n",
    "elif n < m:\n",
    "    print(\"Napaka: števlo vseh trikotnih funkcij mora biti večje kot število v podmnožici\")\n",
    "elif a >= b :\n",
    "    print(\"Napaka: upoštevaj pogoj a < b\")\n",
    "else:\n",
    "    print(\"Uspešno nastavljene nastavitve\")\n",
    "\n",
    "######################################################################################\n",
    "\n",
    "import random\n",
    "from matplotlib.pyplot import plot, axis, show,axes\n",
    "import matplotlib.pyplot as plt\n",
    "\n",
    "#Seznam n naključnih parametrov za trikotno funkcijo\n",
    "#V višina, N naklon, P pozicija\n",
    "def nakljucni_parametri_V(n):\n",
    "    rangeV = (0,5)\n",
    "    parameter_V = []\n",
    "    i = 0\n",
    "    while i < n:\n",
    "        V = random.uniform(*rangeV)\n",
    "        parameter_V.append(V)\n",
    "        i += 1\n",
    "    return parameter_V\n",
    "\n",
    "seznam_parametrov_V = nakljucni_parametri_V(n)\n",
    "\n",
    "def nakljucni_parametri_N(n):\n",
    "    rangeN = (0,5)\n",
    "    parameter_N = []\n",
    "    i = 0\n",
    "    while i < n:\n",
    "        N = random.uniform(*rangeN)\n",
    "        parameter_N.append(N)\n",
    "        i += 1\n",
    "    return parameter_N\n",
    "\n",
    "seznam_parametrov_N = nakljucni_parametri_N(n)\n",
    "\n",
    "def nakljucni_parametri_P(n):\n",
    "    rangeP = (0,5)\n",
    "    parameter_P = []\n",
    "    i = 0\n",
    "    while i < n:\n",
    "        P = random.uniform(*rangeP)\n",
    "        parameter_P.append(P)\n",
    "        i += 1\n",
    "    return parameter_P\n",
    "\n",
    "seznam_parametrov_P = nakljucni_parametri_P(n)\n",
    "\n",
    "def generiranje_funkcij(seznam_parametrov_V, seznam_parametrov_P,seznam_parametrov_N):\n",
    "    funkcije = []\n",
    "    parameter_V = 0\n",
    "    parameter_N = 0\n",
    "    parameter_P = 0\n",
    "    for parameter_V in seznam_parametrov_V:\n",
    "        for parameter_N in seznam_parametrov_N:\n",
    "             for parameter_P in seznam_parametrov_P:\n",
    "                f = parameter_V - abs(parameter_N * x - parameter_P)\n",
    "                funkcije.append(f)\n",
    "    return funkcije\n",
    "\n",
    "seznam_funkcij = generiranje_funkcij(seznam_parametrov_V, seznam_parametrov_P,seznam_parametrov_N) #imam funkcije\n",
    "seznam_funkcij\n",
    "\n",
    "i = 0\n",
    "n = 1\n",
    "for i in seznam_funkcij:\n",
    "    #n število delilnih točk intervala [a,b] (večji kot je n, bolj natančna bo vrednost)\n",
    "    # moram nardit: v seznam_funkcij imaš vse funkcije, za vsak element tega seznama moraš nardit nov seznam v katerem se ti bodo izpisali vsi f(x)\n",
    "    # pazi, če imaš f(x)<0 ti more namest f(x) dat 0\n",
    "    interval = [(b - a) * i/n + a for i in range(0, n+1)]\n",
    "    vrednosti = []\n",
    "    for x in interval:\n",
    "        if seznam_funkcij[i] < 0:\n",
    "            seznam_funkcij[i] = 0\n",
    "        else:\n",
    "            seznam_funkcij[i] = seznam_funkcij[i]\n",
    "        vrednosti.append(seznam_funkcij)\n",
    "    i += 1\n",
    "return vrednost\n"
   ]
  },
  {
   "cell_type": "code",
   "execution_count": 0,
   "metadata": {
    "collapsed": false
   },
   "outputs": [
   ],
   "source": [
   ]
  },
  {
   "cell_type": "code",
   "execution_count": 0,
   "metadata": {
    "collapsed": false
   },
   "outputs": [
   ],
   "source": [
   ]
  }
 ],
 "metadata": {
  "kernelspec": {
   "display_name": "SageMath 9.4",
   "language": "sagemath",
   "metadata": {
    "cocalc": {
     "description": "Open-source mathematical software system",
     "priority": 10,
     "url": "https://www.sagemath.org/"
    }
   },
   "name": "sage-9.4",
   "resource_dir": "/ext/jupyter/kernels/sage-9.4"
  },
  "language_info": {
   "codemirror_mode": {
    "name": "ipython",
    "version": 3
   },
   "file_extension": ".py",
   "mimetype": "text/x-python",
   "name": "python",
   "nbconvert_exporter": "python",
   "pygments_lexer": "ipython3",
   "version": "3.9.5"
  }
 },
 "nbformat": 4,
 "nbformat_minor": 4
}