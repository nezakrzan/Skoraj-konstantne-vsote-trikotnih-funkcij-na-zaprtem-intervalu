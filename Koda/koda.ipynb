{
 "cells": [
  {
   "cell_type": "code",
   "execution_count": 8,
   "metadata": {
    "collapsed": false
   },
   "outputs": [
    {
     "name": "stdout",
     "output_type": "stream",
     "text": [
      "Uspešno nastavljene nastavitve\n"
     ]
    },
    {
     "ename": "TypeError",
     "evalue": "'<=' not supported between instances of 'range' and 'sage.numerical.mip.MIPVariable'",
     "output_type": "error",
     "traceback": [
      "\u001b[0;31m---------------------------------------------------------------------------\u001b[0m",
      "\u001b[0;31mTypeError\u001b[0m                                 Traceback (most recent call last)",
      "\u001b[0;32m<ipython-input-8-089654e03536>\u001b[0m in \u001b[0;36m<module>\u001b[0;34m\u001b[0m\n\u001b[1;32m    117\u001b[0m \u001b[0;34m\u001b[0m\u001b[0m\n\u001b[1;32m    118\u001b[0m \u001b[0;34m\u001b[0m\u001b[0m\n\u001b[0;32m--> 119\u001b[0;31m \u001b[0mvsota_trikotnih_funkcij\u001b[0m\u001b[0;34m(\u001b[0m\u001b[0mseznam_funkcij\u001b[0m\u001b[0;34m,\u001b[0m \u001b[0mseznam_tock\u001b[0m\u001b[0;34m)\u001b[0m\u001b[0;34m\u001b[0m\u001b[0;34m\u001b[0m\u001b[0m\n\u001b[0m",
      "\u001b[0;32m<ipython-input-8-089654e03536>\u001b[0m in \u001b[0;36mvsota_trikotnih_funkcij\u001b[0;34m(seznam_funkcij, seznam_tock)\u001b[0m\n\u001b[1;32m    102\u001b[0m     \u001b[0mm\u001b[0m \u001b[0;34m=\u001b[0m \u001b[0mp\u001b[0m\u001b[0;34m.\u001b[0m\u001b[0mnew_variable\u001b[0m\u001b[0;34m(\u001b[0m\u001b[0minteger\u001b[0m\u001b[0;34m=\u001b[0m\u001b[0;32mFalse\u001b[0m\u001b[0;34m,\u001b[0m \u001b[0mnonnegative\u001b[0m\u001b[0;34m=\u001b[0m\u001b[0;32mTrue\u001b[0m\u001b[0;34m)\u001b[0m\u001b[0;34m\u001b[0m\u001b[0;34m\u001b[0m\u001b[0m\n\u001b[1;32m    103\u001b[0m     \u001b[0;32mfor\u001b[0m \u001b[0mi\u001b[0m \u001b[0;32min\u001b[0m \u001b[0mseznam_tock\u001b[0m\u001b[0;34m:\u001b[0m\u001b[0;34m\u001b[0m\u001b[0;34m\u001b[0m\u001b[0m\n\u001b[0;32m--> 104\u001b[0;31m         \u001b[0mp\u001b[0m\u001b[0;34m.\u001b[0m\u001b[0madd_constraint\u001b[0m\u001b[0;34m(\u001b[0m\u001b[0msum\u001b[0m\u001b[0;34m(\u001b[0m\u001b[0mseznam_funkcij\u001b[0m\u001b[0;34m[\u001b[0m\u001b[0mj\u001b[0m\u001b[0;34m]\u001b[0m\u001b[0;34m(\u001b[0m\u001b[0mx\u001b[0m\u001b[0;34m[\u001b[0m\u001b[0mi\u001b[0m\u001b[0;34m]\u001b[0m\u001b[0;34m)\u001b[0m \u001b[0;34m*\u001b[0m \u001b[0mv\u001b[0m\u001b[0;34m[\u001b[0m\u001b[0mj\u001b[0m\u001b[0;34m]\u001b[0m \u001b[0;32mfor\u001b[0m \u001b[0mj\u001b[0m \u001b[0;32min\u001b[0m \u001b[0mrange\u001b[0m\u001b[0;34m(\u001b[0m\u001b[0mInteger\u001b[0m\u001b[0;34m(\u001b[0m\u001b[0;36m1\u001b[0m\u001b[0;34m)\u001b[0m\u001b[0;34m,\u001b[0m \u001b[0mn\u001b[0m\u001b[0;34m)\u001b[0m \u001b[0;34m<=\u001b[0m \u001b[0mM\u001b[0m\u001b[0;34m)\u001b[0m\u001b[0;34m)\u001b[0m\u001b[0;34m\u001b[0m\u001b[0;34m\u001b[0m\u001b[0m\n\u001b[0m\u001b[1;32m    105\u001b[0m         \u001b[0mp\u001b[0m\u001b[0;34m.\u001b[0m\u001b[0madd_constraint\u001b[0m\u001b[0;34m(\u001b[0m\u001b[0msum\u001b[0m\u001b[0;34m(\u001b[0m\u001b[0mseznam_funkcij\u001b[0m\u001b[0;34m[\u001b[0m\u001b[0mj\u001b[0m\u001b[0;34m]\u001b[0m\u001b[0;34m(\u001b[0m\u001b[0mx\u001b[0m\u001b[0;34m[\u001b[0m\u001b[0mi\u001b[0m\u001b[0;34m]\u001b[0m\u001b[0;34m)\u001b[0m \u001b[0;34m*\u001b[0m \u001b[0mv\u001b[0m\u001b[0;34m[\u001b[0m\u001b[0mj\u001b[0m\u001b[0;34m]\u001b[0m \u001b[0;32mfor\u001b[0m \u001b[0mj\u001b[0m \u001b[0;32min\u001b[0m \u001b[0mrange\u001b[0m\u001b[0;34m(\u001b[0m\u001b[0mInteger\u001b[0m\u001b[0;34m(\u001b[0m\u001b[0;36m1\u001b[0m\u001b[0;34m)\u001b[0m\u001b[0;34m,\u001b[0m \u001b[0mn\u001b[0m\u001b[0;34m)\u001b[0m \u001b[0;34m>=\u001b[0m \u001b[0mm\u001b[0m\u001b[0;34m)\u001b[0m\u001b[0;34m)\u001b[0m\u001b[0;34m\u001b[0m\u001b[0;34m\u001b[0m\u001b[0m\n\u001b[1;32m    106\u001b[0m     \u001b[0mp\u001b[0m\u001b[0;34m.\u001b[0m\u001b[0madd_constraint\u001b[0m\u001b[0;34m(\u001b[0m\u001b[0msum\u001b[0m\u001b[0;34m(\u001b[0m\u001b[0mv\u001b[0m\u001b[0;34m[\u001b[0m\u001b[0mj\u001b[0m\u001b[0;34m]\u001b[0m \u001b[0;32mfor\u001b[0m \u001b[0mj\u001b[0m \u001b[0;32min\u001b[0m \u001b[0mrange\u001b[0m\u001b[0;34m(\u001b[0m\u001b[0mInteger\u001b[0m\u001b[0;34m(\u001b[0m\u001b[0;36m1\u001b[0m\u001b[0;34m)\u001b[0m\u001b[0;34m,\u001b[0m\u001b[0mn\u001b[0m\u001b[0;34m)\u001b[0m \u001b[0;34m>=\u001b[0m \u001b[0mInteger\u001b[0m\u001b[0;34m(\u001b[0m\u001b[0;36m1\u001b[0m\u001b[0;34m)\u001b[0m\u001b[0;34m)\u001b[0m\u001b[0;34m)\u001b[0m\u001b[0;34m\u001b[0m\u001b[0;34m\u001b[0m\u001b[0m\n",
      "\u001b[0;31mTypeError\u001b[0m: '<=' not supported between instances of 'range' and 'sage.numerical.mip.MIPVariable'"
     ]
    }
   ],
   "source": [
    "import random\n",
    "\n",
    "class OdsekomaLinearnaFunkcija:\n",
    "    \"\"\"\n",
    "    Razred za odsekoma linearne funkcije.\n",
    "    \"\"\"\n",
    "\n",
    "    def __init__(self, tocke):\n",
    "        \"\"\"\n",
    "        Konstruktor objekta.\n",
    "        \"\"\"\n",
    "        tocke = dict(tocke) # naredimo nov slovar s točkami\n",
    "        self.prelomi = sorted(tocke.keys()) # urejen seznam točk preloma\n",
    "        self.vrednosti = [tocke[x] for x in self.prelomi] # seznam ustreznih vrednosti\n",
    "\n",
    "    def __call__(self, x):\n",
    "        \"\"\"\n",
    "        Evaluacija funkcije v točki x.\n",
    "        \"\"\"\n",
    "        if x <= self.prelomi[0]: # levo od prve točke vrnemo prvo vrednost\n",
    "            return self.vrednosti[0]\n",
    "        elif x >= self.prelomi[-1]: # desno od zadnje točke vrnemo zadnjo vrednost\n",
    "            return self.vrednosti[-1]\n",
    "        i, j = 0, len(self.prelomi) - 1 # delamo bisekcijo\n",
    "        while i < j - 1:\n",
    "            h = (i + j) // 2\n",
    "            if x < self.prelomi[h]:\n",
    "                j = h\n",
    "            else:\n",
    "                i = h\n",
    "        return ((self.prelomi[j] - x) * self.vrednosti[i] + (x - self.prelomi[i]) * self.vrednosti[j])  / (self.prelomi[j] - self.prelomi[i])\n",
    "\n",
    "class TrikotnaFunkcija(OdsekomaLinearnaFunkcija):\n",
    "    def __init__(self, a, b, c, h):\n",
    "        \"\"\"\n",
    "        Konstruktor za trikotno funkcijo z vznožjem pri a in c ter vrhom pri b z vrednostjo h\n",
    "        \"\"\"\n",
    "        assert a < b < c\n",
    "        super().__init__({a: 0, b: h, c: 0})\n",
    "\n",
    "    @staticmethod\n",
    "    def generiraj(range_x=(0, 1), range_y=(0, 100)):\n",
    "        \"\"\"\n",
    "        Generator funkcij pri podanih rangih vrednosti.\n",
    "        \"\"\"\n",
    "        a, b, c = sorted(random.uniform(*range_x) for _ in range(3))\n",
    "        h = random.uniform(*range_y)\n",
    "        return TrikotnaFunkcija(a, b, c, h)\n",
    "\n",
    "class SimetricnaTrikotnaFunkcija(OdsekomaLinearnaFunkcija):\n",
    "    def __init__(self, a, d, c, h):\n",
    "        \"\"\"\n",
    "        Konstruktor za trikotno funkcijo z vznožjem pri a in c ter vrhom pri d = (c-a)/2 z vrednostjo h\n",
    "        \"\"\"\n",
    "        assert a < d < c\n",
    "        super().__init__({a: 0, d: h, c: 0})\n",
    "\n",
    "    @staticmethod\n",
    "    def generiraj(range_x=(0, 1), range_y=(0, 100)):\n",
    "        \"\"\"\n",
    "        Generator funkcij pri podanih rangih vrednosti.\n",
    "        \"\"\"\n",
    "        a, d, c = sorted(random.uniform(*range_x) for _ in range(3))\n",
    "        h = random.uniform(*range_y)\n",
    "        return SimetricnaTrikotnaFunkcija(a, d, c, h)\n",
    "\n",
    "#######################################################################################################################################################\n",
    "\n",
    "# Nastavitve programa \n",
    "# Tukaj nastavimo število trikotnih funkcij(n) in število trikotnih funkcij v podmnožici(z), z < n\n",
    "# Nastavimo zaprt interval [a,c], a < c\n",
    "\n",
    "n = 10\n",
    "z = 7\n",
    "a = 0\n",
    "c = 1\n",
    "d = (c-a)/2\n",
    "\n",
    "if n <= 0:\n",
    "    print(\"Napaka: število trikotnih funkcij mora biti pozitivno\")\n",
    "elif n < z:\n",
    "    print(\"Napaka: števlo vseh trikotnih funkcij mora biti večje kot število v podmnožici\")\n",
    "elif a >= c :\n",
    "    print(\"Napaka: upoštevaj pogoj a < b\")\n",
    "else:\n",
    "    print(\"Uspešno nastavljene nastavitve\")\n",
    "\n",
    "\n",
    "seznam_funkcij = [TrikotnaFunkcija.generiraj(range_x=(-1, 1), range_y=(0, 10)) for i in range(n)]\n",
    "#seznam_simetricnih_funkcij = [SimetricnaTrikotnaFunkcija.generiraj(range_x=(-1, 1), range_y=(0, 10)) for _ in range(n)]\n",
    "#seznam_trikotne_tocke = sorted(set(x for f in seznam_simetricnih_funkcij for x in f.prelomi))\n",
    "seznam_tock = sorted(set(x for f in seznam_funkcij for x in f.prelomi))\n",
    "\n",
    "#######################################################################################################################################################\n",
    "def vsota_trikotnih_funkcij(seznam_funkcij, seznam_tock):\n",
    "    k = len(seznam_tock)\n",
    "    n = len(seznam_funkcij)\n",
    "\n",
    "    p = MixedIntegerLinearProgram(maximization=False)\n",
    "    v = p.new_variable(binary=True)\n",
    "    M = p.new_variable(integer=False, nonnegative=True)\n",
    "    m = p.new_variable(integer=False, nonnegative=True)\n",
    "    for i in seznam_tock:\n",
    "        p.add_constraint(sum(seznam_funkcij[j](x[i]) * v[j] for j in range(1, n) <= M))\n",
    "        p.add_constraint(sum(seznam_funkcij[j](x[i]) * v[j] for j in range(1, n) >= m))\n",
    "    p.add_constraint(sum(v[j] for j in range(1,n) >= 1))\n",
    "    p.add_constraint(sum(v[j] for j in range(1,n) <= z))\n",
    "    p.set_objective(M-m)\n",
    "\n",
    "    vsota = p.solve()\n",
    "    M, m = p.get_values(M), p.get_values(m)\n",
    "    vkljucene = []\n",
    "    for j in range(1,n):\n",
    "        if v[j] == 1:\n",
    "            vkljucene.append(seznam_funkcij[j])\n",
    "    return [vsota, vkljucene]\n",
    "\n",
    "\n",
    "vsota_trikotnih_funkcij(seznam_funkcij, seznam_tock)\n",
    "\n"
   ]
  },
  {
   "cell_type": "code",
   "execution_count": 0,
   "metadata": {
    "collapsed": false
   },
   "outputs": [
   ],
   "source": [
   ]
  }
 ],
 "metadata": {
  "kernelspec": {
   "display_name": "SageMath 9.4",
   "language": "sagemath",
   "metadata": {
    "cocalc": {
     "description": "Open-source mathematical software system",
     "priority": 10,
     "url": "https://www.sagemath.org/"
    }
   },
   "name": "sage-9.4",
   "resource_dir": "/ext/jupyter/kernels/sage-9.4"
  },
  "language_info": {
   "codemirror_mode": {
    "name": "ipython",
    "version": 3
   },
   "file_extension": ".py",
   "mimetype": "text/x-python",
   "name": "python",
   "nbconvert_exporter": "python",
   "pygments_lexer": "ipython3",
   "version": "3.9.5"
  }
 },
 "nbformat": 4,
 "nbformat_minor": 4
}