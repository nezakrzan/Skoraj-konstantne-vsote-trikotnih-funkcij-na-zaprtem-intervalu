{
 "cells": [
  {
   "cell_type": "code",
   "execution_count": 16,
   "metadata": {
    "collapsed": false
   },
   "outputs": [
    {
     "name": "stdout",
     "output_type": "stream",
     "text": [
      "Uspešno nastavljene nastavitve\n"
     ]
    },
    {
     "data": {
      "text/plain": [
       "[[0.40239772564510456, 0],\n",
       " [0.9998458081289492, 71.46224344911778],\n",
       " [0, 0.9959409029298413],\n",
       " [0.4852596957144112, 0],\n",
       " [0.28242702269828257, 30.735930939512723],\n",
       " [0, 0.9252922780727901],\n",
       " [0.7432918510240574, 0],\n",
       " [0.7526548668408096, 84.16600549281824],\n",
       " [0, 0.5085556389535714],\n",
       " [0.2405504201051184, 0],\n",
       " [0.557663699520282, 13.444781844023012],\n",
       " [0, 0.0802389493690655],\n",
       " [0.4884930072364676, 0],\n",
       " [0.6957797959291759, 51.03222089900707],\n",
       " [0, 0.550278981138271],\n",
       " [0.11456929950452432, 0],\n",
       " [0.6991389686821008, 44.51614067408792],\n",
       " [0, 0.06453469850196003],\n",
       " [0.5667995115892356, 0],\n",
       " [0.2870194492830789, 31.344984055329117],\n",
       " [0, 0.3164581277665567],\n",
       " [0.5364551999617087, 0],\n",
       " [0.12715272592329707, 34.65577581155509],\n",
       " [0, 0.18615291143843982],\n",
       " [0.9996030409742399, 0],\n",
       " [0.0444600656019698, 64.39274902648387],\n",
       " [0, 0.4262255483474747],\n",
       " [0.14512561204965913, 0],\n",
       " [0.31564220441692203, 34.224635058811636],\n",
       " [0, 0.47414247403922616]]"
      ]
     },
     "execution_count": 16,
     "metadata": {
     },
     "output_type": "execute_result"
    }
   ],
   "source": [
    "# Nastavitve programa \n",
    "#Interval [a,b]\n",
    "#n ... število trikotnih funkcij\n",
    "#m ... število trikotnih funkcij v podmnožici\n",
    "\n",
    "a = 0\n",
    "b = 1\n",
    "n = 10\n",
    "m = 7\n",
    "\n",
    "if n <= 0:\n",
    "    print(\"Napaka: število trikotnih funkcij mora biti pozitivno\")\n",
    "elif n < m:\n",
    "    print(\"Napaka: števlo vseh trikotnih funkcij mora biti večje kot število v podmnožici\")\n",
    "elif a >= b :\n",
    "    print(\"Napaka: upoštevaj pogoj a < b\")\n",
    "else:\n",
    "    print(\"Uspešno nastavljene nastavitve\")\n",
    "\n",
    "######################################################################################\n",
    "\n",
    "import random\n",
    "from matplotlib.pyplot import plot, axis, show,axes\n",
    "import matplotlib.pyplot as plt\n",
    "\n",
    "# Vsaka funkcija ima 3 točke preloma: (c,0), (d,e), (0,f);c > d > f, f,e > 0\n",
    "c_min = a\n",
    "c_max = b\n",
    "d_min = c_max\n",
    "d_max = f_min\n",
    "e_min = 0\n",
    "e_max = 100 #lahko neskončno, samo potem izbere vedno neskončno???\n",
    "f_min = d_max\n",
    "f_max = b\n",
    "def tocke_preloma(c_min, c_max, d_min, d_max, e_min, e_max, f_min, f_max, n):\n",
    "    #seznam 3*n prelomnih točk n trikotnih funkcij\n",
    "    rangeC = (c_min, c_max)\n",
    "    rangeD = (d_min, d_max)\n",
    "    rangeE = (e_min, e_max)\n",
    "    rangeF = (f_min, f_max)\n",
    "    prelomne_tocke = []\n",
    "    i = 0\n",
    "    while i < n: #popravi na n*3\n",
    "        c = random.uniform(*rangeC)\n",
    "        d = random.uniform(*rangeD)\n",
    "        e = random.uniform(*rangeE)\n",
    "        f = random.uniform(*rangeF)\n",
    "        prelomne_tocke.extend(([c, 0], [d, e], [0, f]))\n",
    "        i += 1\n",
    "    return prelomne_tocke\n",
    "\n",
    "seznam_tock = tocke_preloma(c_min, c_max, d_min, d_max, e_min, e_max, f_min, f_max, n)\n",
    "\n",
    "\n",
    "\n",
    "\n",
    "\n",
    "def konstantne_vsote(seznam_tock):\n",
    "    p = MixedIntegerLinearProgram(minimization=True)\n",
    "    v = p.new_variable(binary=True)\n",
    "    p.set_objective(M - m)\n",
    "    p.add_constraint(sum())\n"
   ]
  },
  {
   "cell_type": "code",
   "execution_count": 0,
   "metadata": {
    "collapsed": false
   },
   "outputs": [
   ],
   "source": [
   ]
  }
 ],
 "metadata": {
  "kernelspec": {
   "display_name": "SageMath 9.4",
   "language": "sagemath",
   "metadata": {
    "cocalc": {
     "description": "Open-source mathematical software system",
     "priority": 10,
     "url": "https://www.sagemath.org/"
    }
   },
   "name": "sage-9.4",
   "resource_dir": "/ext/jupyter/kernels/sage-9.4"
  },
  "language_info": {
   "codemirror_mode": {
    "name": "ipython",
    "version": 3
   },
   "file_extension": ".py",
   "mimetype": "text/x-python",
   "name": "python",
   "nbconvert_exporter": "python",
   "pygments_lexer": "ipython3",
   "version": "3.9.5"
  }
 },
 "nbformat": 4,
 "nbformat_minor": 4
}